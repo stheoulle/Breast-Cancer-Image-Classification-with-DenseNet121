{
  "cells": [
    {
      "cell_type": "markdown",
      "metadata": {
        "id": "xVJKQgnf-SMz"
      },
      "source": [
        "### I. Import Required Dependecies\n"
      ]
    },
    {
      "cell_type": "code",
      "execution_count": null,
      "metadata": {
        "id": "h15foYUv-T4I"
      },
      "outputs": [
        {
          "name": "stderr",
          "output_type": "stream",
          "text": [
            "2025-08-22 13:54:46.927376: I tensorflow/core/util/port.cc:153] oneDNN custom operations are on. You may see slightly different numerical results due to floating-point round-off errors from different computation orders. To turn them off, set the environment variable `TF_ENABLE_ONEDNN_OPTS=0`.\n",
            "2025-08-22 13:54:46.956411: I tensorflow/core/platform/cpu_feature_guard.cc:210] This TensorFlow binary is optimized to use available CPU instructions in performance-critical operations.\n",
            "To enable the following instructions: AVX2 AVX_VNNI FMA, in other operations, rebuild TensorFlow with the appropriate compiler flags.\n"
          ]
        },
        {
          "ename": "ImportError",
          "evalue": "cannot import name 'ImageDataGenerator' from 'keras.preprocessing.image' (/home/naeem/miniconda3/envs/biogpt/lib/python3.11/site-packages/keras/preprocessing/image/__init__.py)",
          "output_type": "error",
          "traceback": [
            "\u001b[0;31m---------------------------------------------------------------------------\u001b[0m",
            "\u001b[0;31mImportError\u001b[0m                               Traceback (most recent call last)",
            "Cell \u001b[0;32mIn[1], line 15\u001b[0m\n\u001b[1;32m     13\u001b[0m \u001b[38;5;28;01mimport\u001b[39;00m\u001b[38;5;250m \u001b[39m\u001b[38;5;21;01mkeras\u001b[39;00m\n\u001b[1;32m     14\u001b[0m \u001b[38;5;28;01mfrom\u001b[39;00m\u001b[38;5;250m \u001b[39m\u001b[38;5;21;01mkeras\u001b[39;00m\u001b[38;5;21;01m.\u001b[39;00m\u001b[38;5;21;01mmodels\u001b[39;00m\u001b[38;5;250m \u001b[39m\u001b[38;5;28;01mimport\u001b[39;00m load_model\n\u001b[0;32m---> 15\u001b[0m \u001b[38;5;28;01mfrom\u001b[39;00m\u001b[38;5;250m \u001b[39m\u001b[38;5;21;01mkeras\u001b[39;00m\u001b[38;5;21;01m.\u001b[39;00m\u001b[38;5;21;01mpreprocessing\u001b[39;00m\u001b[38;5;21;01m.\u001b[39;00m\u001b[38;5;21;01mimage\u001b[39;00m\u001b[38;5;250m \u001b[39m\u001b[38;5;28;01mimport\u001b[39;00m ImageDataGenerator\n\u001b[1;32m     16\u001b[0m \u001b[38;5;28;01mfrom\u001b[39;00m\u001b[38;5;250m \u001b[39m\u001b[38;5;21;01mkeras\u001b[39;00m\u001b[38;5;21;01m.\u001b[39;00m\u001b[38;5;21;01mpreprocessing\u001b[39;00m\u001b[38;5;250m \u001b[39m\u001b[38;5;28;01mimport\u001b[39;00m image\n",
            "\u001b[0;31mImportError\u001b[0m: cannot import name 'ImageDataGenerator' from 'keras.preprocessing.image' (/home/naeem/miniconda3/envs/biogpt/lib/python3.11/site-packages/keras/preprocessing/image/__init__.py)"
          ]
        }
      ],
      "source": [
        "import os\n",
        "# Désactive tous les GPU\n",
        "os.environ[\"CUDA_VISIBLE_DEVICES\"] = \"-1\"\n",
        "\n",
        "import pandas as pd\n",
        "import numpy as np\n",
        "import matplotlib.pyplot as plt\n",
        "import seaborn as sns\n",
        "\n",
        "# scikit-learn\n",
        "from sklearn.metrics import confusion_matrix, classification_report\n",
        "\n",
        "# Keras / TensorFlow\n",
        "import tensorflow as tf\n",
        "from tensorflow import keras\n",
        "from tensorflow.keras.models import load_model\n",
        "from tensorflow.keras.preprocessing.image import ImageDataGenerator\n",
        "from tensorflow.keras.preprocessing import image\n",
        "\n",
        "print(\"Devices disponibles :\", tf.config.list_physical_devices())\n"
      ]
    },
    {
      "cell_type": "markdown",
      "metadata": {
        "id": "44_5ru9v-gf2"
      },
      "source": [
        "### II. Mount Google Drive (Optional)\n"
      ]
    },
    {
      "cell_type": "code",
      "execution_count": null,
      "metadata": {
        "colab": {
          "base_uri": "https://localhost:8080/"
        },
        "id": "rwT4V3yn92TN",
        "outputId": "70511b86-d7b9-4a46-bb55-ea6788aa216f"
      },
      "outputs": [],
      "source": [
        "#from google.colab import drive\n",
        "#drive.mount('/content/drive')"
      ]
    },
    {
      "cell_type": "markdown",
      "metadata": {
        "id": "I5hOLlmt-qTe"
      },
      "source": [
        "### III. Evaluate Model (Test Set)"
      ]
    },
    {
      "cell_type": "code",
      "execution_count": null,
      "metadata": {
        "colab": {
          "base_uri": "https://localhost:8080/"
        },
        "id": "qXTUb2Yy9dqS",
        "outputId": "7f128915-7d07-4679-fad5-c368970bad52"
      },
      "outputs": [],
      "source": [
        "# Load the trained model\n",
        "loaded_model = load_model('model.h5')\n",
        "\n",
        "# Set the path to the directory containing the test images\n",
        "test_data_path = 'test_images'\n",
        "\n",
        "# Create an ImageDataGenerator for test data\n",
        "test_datagen = ImageDataGenerator(rescale=1.0 / 255)\n",
        "\n",
        "# Create a generator for the test data\n",
        "test_generator = test_datagen.flow_from_directory(\n",
        "    test_data_path,\n",
        "    target_size=(256, 256),\n",
        "    batch_size=16,\n",
        "    class_mode='categorical',\n",
        "    shuffle=False\n",
        ")\n",
        "\n",
        "# Evaluate the model on the test set\n",
        "test_loss, test_accuracy = loaded_model.evaluate(test_generator)"
      ]
    },
    {
      "cell_type": "markdown",
      "metadata": {
        "id": "WeG51rqQzrdt"
      },
      "source": [
        "**Display DataFrame**"
      ]
    },
    {
      "cell_type": "code",
      "execution_count": null,
      "metadata": {
        "colab": {
          "base_uri": "https://localhost:8080/",
          "height": 81
        },
        "id": "2B8Io8Nkzr0I",
        "outputId": "407b9f8b-3455-40b3-9129-a8df62d28cbe"
      },
      "outputs": [],
      "source": [
        "# Convert accuracy to percentage\n",
        "test_accuracy_percentage = test_accuracy * 100\n",
        "\n",
        "# Create a Pandas DataFrame to display the result\n",
        "evaluation_result = pd.DataFrame({\n",
        "    'Set': ['Test'],\n",
        "    'Loss': [test_loss],\n",
        "    'Accuracy': [f'{test_accuracy_percentage:.2f}%']\n",
        "})\n",
        "\n",
        "# Display the evaluation result DataFrame\n",
        "evaluation_result"
      ]
    },
    {
      "cell_type": "markdown",
      "metadata": {
        "id": "hISSYOIxz09n"
      },
      "source": [
        "**Display Confusion Matrix**"
      ]
    },
    {
      "cell_type": "code",
      "execution_count": null,
      "metadata": {
        "colab": {
          "base_uri": "https://localhost:8080/",
          "height": 755
        },
        "id": "aQq6csV60aXE",
        "outputId": "d1688080-3097-49f0-c298-d4e4655b9f69"
      },
      "outputs": [],
      "source": [
        "# Define class names\n",
        "class_names = ['benign', 'malignant', 'normal']\n",
        "\n",
        "# Generate predictions for the test set\n",
        "predictions = loaded_model.predict(test_generator)\n",
        "predicted_labels = np.argmax(predictions, axis=1)\n",
        "true_labels = test_generator.classes\n",
        "\n",
        "# Create confusion matrix\n",
        "cm = confusion_matrix(true_labels, predicted_labels)\n",
        "\n",
        "# Plot confusion matrix\n",
        "plt.figure(figsize=(8, 6))\n",
        "sns.heatmap(cm, annot=True, fmt='d', cmap='Blues', xticklabels=class_names, yticklabels=class_names)\n",
        "plt.title('Confusion Matrix')\n",
        "plt.xlabel('Predicted')\n",
        "plt.ylabel('True')\n",
        "plt.show()\n",
        "\n",
        "# Display classification report\n",
        "class_report = classification_report(true_labels, predicted_labels, target_names=class_names)\n",
        "print(class_report)"
      ]
    },
    {
      "cell_type": "markdown",
      "metadata": {
        "id": "7EMTnaD4Eo-2"
      },
      "source": [
        "**Display Model's Overall Accuracy**"
      ]
    },
    {
      "cell_type": "code",
      "execution_count": null,
      "metadata": {
        "colab": {
          "base_uri": "https://localhost:8080/"
        },
        "id": "jq52AZDSEoZn",
        "outputId": "123541bd-d01e-43b9-fade-1131769f4e9c"
      },
      "outputs": [],
      "source": [
        "# Display the overall accuracy\n",
        "print(f\"Overall Accuracy: {test_accuracy_percentage:.2f}%\")"
      ]
    },
    {
      "cell_type": "markdown",
      "metadata": {
        "id": "FvyAd14--wYs"
      },
      "source": [
        "### IV. Make Predictions (Classify Images)"
      ]
    },
    {
      "cell_type": "code",
      "execution_count": null,
      "metadata": {
        "colab": {
          "base_uri": "https://localhost:8080/",
          "height": 1000
        },
        "id": "nKu-iZi1DNHs",
        "outputId": "3ffbac7e-b456-448e-e919-5d898cc19a35"
      },
      "outputs": [],
      "source": [
        "# Load the trained model from the checkpoint file\n",
        "loaded_model = keras.models.load_model('model.h5')\n",
        "\n",
        "# Define a list of image paths you want to classify\n",
        "image_paths = [\n",
        "    'test_images/malignant/malignant (46).png',\n",
        "    'test_images/normal/normal (91).png',\n",
        "    'test_images/benign/benign (78).png',\n",
        "    'test_images/malignant/malignant (30).png',\n",
        "    'test_images/benign/benign (166).png',\n",
        "    'test_images/normal/normal (122).png',\n",
        "]\n",
        "\n",
        "# Initialize a counter for correct predictions\n",
        "correct_predictions = 0\n",
        "\n",
        "# Loop through each image path\n",
        "for image_path in image_paths:\n",
        "    # Extract the real class from the image path or any other source\n",
        "    real_class = image_path.split('/')[-2]  # Adjust the split based on your directory structure\n",
        "\n",
        "    # Load and preprocess the image\n",
        "    img = image.load_img(image_path, target_size=(256, 256))\n",
        "    img_array = image.img_to_array(img)\n",
        "    img_array = np.expand_dims(img_array, axis=0)\n",
        "    img_array /= 255.0  # Rescale pixel values to [0, 1]\n",
        "\n",
        "    # Make predictions\n",
        "    predictions = loaded_model.predict(img_array)\n",
        "\n",
        "    # Get the predicted class index\n",
        "    predicted_label_index = np.argmax(predictions)\n",
        "\n",
        "    # Map the predicted class index to the actual class label (if you have a mapping)\n",
        "    class_labels = {0: 'benign', 1: 'malignant', 2: 'normal'}  # Update with your actual class labels\n",
        "    predicted_label = class_labels.get(predicted_label_index, 'Unknown')\n",
        "\n",
        "    # Check correctness\n",
        "    correctness = '\"Correct\"' if real_class == predicted_label.lower() else '\"Incorrect\"'\n",
        "\n",
        "    # Display the real class, predicted class, and correctness\n",
        "    print(f'Real Class: {real_class}')\n",
        "    print(f'Predicted Class: {predicted_label}')\n",
        "    print(correctness)\n",
        "    print()\n",
        "\n",
        "    # Increment the correct predictions counter\n",
        "    if correctness == '\"Correct\"':\n",
        "        correct_predictions += 1\n",
        "\n",
        "    # Display the image\n",
        "    plt.imshow(img)\n",
        "    plt.axis('off')  # Turn off axis labels for better visualization\n",
        "    plt.show()\n",
        "\n",
        "# Display the overall correctness\n",
        "print(f'\\n {correct_predictions} out of {len(image_paths)} images are classified correctly.')"
      ]
    }
  ],
  "metadata": {
    "colab": {
      "provenance": []
    },
    "kernelspec": {
      "display_name": "biogpt",
      "language": "python",
      "name": "python3"
    },
    "language_info": {
      "codemirror_mode": {
        "name": "ipython",
        "version": 3
      },
      "file_extension": ".py",
      "mimetype": "text/x-python",
      "name": "python",
      "nbconvert_exporter": "python",
      "pygments_lexer": "ipython3",
      "version": "3.11.13"
    }
  },
  "nbformat": 4,
  "nbformat_minor": 0
}
